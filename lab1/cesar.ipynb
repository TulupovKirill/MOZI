{
 "cells": [
  {
   "cell_type": "markdown",
   "metadata": {},
   "source": [
    "# Шифр Цезаря"
   ]
  },
  {
   "cell_type": "code",
   "execution_count": 1,
   "metadata": {},
   "outputs": [],
   "source": [
    "alf = [\"а\", \"б\", \"в\", \"г\", \"д\",\n",
    "       \"е\", \"ж\", \"з\", \"и\",\n",
    "       \"й\", \"к\", \"л\", \"м\", \"н\",\n",
    "       \"о\", \"п\", \"р\", \"с\", \"т\",\n",
    "       \"у\", \"ф\", \"х\", \"ц\", \"ч\",\n",
    "       \"ш\", \"щ\", \"ъ\", \"ы\", \"ь\",\n",
    "       \"э\", \"ю\", \"я\"]\n",
    "\n",
    "alf1 = {} ## буква : число\n",
    "alf2 = {} ## число : буква\n",
    "for i in range(len(alf)):\n",
    "    alf1[alf[i]] = i\n",
    "    alf2[i] = alf[i]"
   ]
  },
  {
   "cell_type": "markdown",
   "metadata": {},
   "source": [
    "## Шифрование текста с вводимым ключом"
   ]
  },
  {
   "cell_type": "code",
   "execution_count": 13,
   "metadata": {},
   "outputs": [
    {
     "data": {
      "text/plain": [
       "'ов1ов'"
      ]
     },
     "execution_count": 13,
     "metadata": {},
     "output_type": "execute_result"
    }
   ],
   "source": [
    "def create_secret_message(key: int, open_message: str) -> str:\n",
    "    \n",
    "    secret_message = \"\"\n",
    "    for i in open_message:\n",
    "        if alf.count(i) == 0:\n",
    "            secret_message += i\n",
    "        else:\n",
    "            open_symbol = alf1[i]\n",
    "            secret_symbol = (open_symbol + key) % 32\n",
    "            secret_message += alf2[secret_symbol]\n",
    "\n",
    "    file_open_messages = open(\"secret_message1\", \"a+\")\n",
    "    file_open_messages.write(\"ключ: \" + str(key) + \"\\t message: \" + secret_message + '\\n')\n",
    "    file_open_messages.close()\n",
    "    \n",
    "    return secret_message\n",
    "\n",
    "key = int(input()) % 32\n",
    "\n",
    "open_message = str(input())\n",
    "\n",
    "create_secret_message(key, open_message)"
   ]
  },
  {
   "cell_type": "markdown",
   "metadata": {},
   "source": [
    "## Расшифрование текста"
   ]
  },
  {
   "cell_type": "code",
   "execution_count": 14,
   "metadata": {},
   "outputs": [],
   "source": [
    "def create_open_message(key: int, secret_message: str):\n",
    "\n",
    "    open_message = \"\"\n",
    "\n",
    "    for i in secret_message:\n",
    "        secret_symbol = int(alf1[i])\n",
    "        open_symbol = (secret_symbol - key) % 32\n",
    "        open_message += alf2[open_symbol]\n",
    "\n",
    "    file_open_messages = open(\"open_message1\", \"a+\")\n",
    "    file_open_messages.write(\"ключ: \" + str(key) + \"\\t message: \" + open_message + '\\n')\n",
    "    file_open_messages.close()\n",
    "    \n",
    "    return open_message"
   ]
  },
  {
   "cell_type": "code",
   "execution_count": 16,
   "metadata": {},
   "outputs": [
    {
     "name": "stdout",
     "output_type": "stream",
     "text": [
      "мама\n"
     ]
    }
   ],
   "source": [
    "secret_message = str(input())\n",
    "key = int(input()) % 32\n",
    "print(create_open_message(key, secret_message))"
   ]
  },
  {
   "cell_type": "markdown",
   "metadata": {},
   "source": [
    "## Взлом шифра Цезаря"
   ]
  },
  {
   "cell_type": "code",
   "execution_count": 17,
   "metadata": {},
   "outputs": [],
   "source": [
    "def hack_message(message: str):\n",
    "    for key in range(1, 33):\n",
    "        open_message = \"\"\n",
    "        for i in message:\n",
    "            secret_symbol = int(alf1[i])\n",
    "            open_symbol = (secret_symbol - key) % 32\n",
    "            open_message += alf2[open_symbol]\n",
    "\n",
    "        file_open_messages = open(\"open_message2\", \"a+\")\n",
    "        file_open_messages.write(\"ключ: \" + str(key) + \"\\t message: \" + open_message + '\\n')\n",
    "        file_open_messages.close()\n",
    "\n",
    "secret_message = \"гэешъдоунвтцбвъгэешъфтдогсдакяа\"\n",
    "\n",
    "hack_message(secret_message)"
   ]
  },
  {
   "cell_type": "markdown",
   "metadata": {},
   "source": [
    "## Отправка ответа"
   ]
  },
  {
   "cell_type": "code",
   "execution_count": 18,
   "metadata": {},
   "outputs": [
    {
     "data": {
      "text/plain": [
       "'хвъуачцафхавчадеют'"
      ]
     },
     "execution_count": 18,
     "metadata": {},
     "output_type": "execute_result"
    }
   ],
   "source": [
    "create_secret_message(key=18, open_message=\"грибоедовгореотума\")"
   ]
  }
 ],
 "metadata": {
  "kernelspec": {
   "display_name": "Python 3",
   "language": "python",
   "name": "python3"
  },
  "language_info": {
   "codemirror_mode": {
    "name": "ipython",
    "version": 3
   },
   "file_extension": ".py",
   "mimetype": "text/x-python",
   "name": "python",
   "nbconvert_exporter": "python",
   "pygments_lexer": "ipython3",
   "version": "3.12.3"
  }
 },
 "nbformat": 4,
 "nbformat_minor": 2
}
